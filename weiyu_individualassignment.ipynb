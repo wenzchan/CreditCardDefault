{
 "cells": [
  {
   "cell_type": "code",
   "execution_count": 1,
   "metadata": {},
   "outputs": [],
   "source": [
    "import pandas as pd"
   ]
  },
  {
   "cell_type": "code",
   "execution_count": 2,
   "metadata": {},
   "outputs": [],
   "source": [
    "df = pd.read_csv(\"Credit Card Default II (balance).csv\")"
   ]
  },
  {
   "cell_type": "code",
   "execution_count": 3,
   "metadata": {},
   "outputs": [
    {
     "name": "stdout",
     "output_type": "stream",
     "text": [
      "            income        age          loan  default\n",
      "0     66155.925100  59.017015   8106.532131        0\n",
      "1     34415.153970  48.117153   6564.745018        0\n",
      "2     57317.170060  63.108049   8020.953296        0\n",
      "3     42709.534200  45.751972   6103.642260        0\n",
      "4     66952.688850  18.584336   8770.099235        1\n",
      "...            ...        ...           ...      ...\n",
      "3423  60903.191726  21.933924  10367.081892        1\n",
      "3424  62235.644695  25.033016   8083.900063        1\n",
      "3425  25597.850590  26.350344   3810.110335        1\n",
      "3426  48164.194974  23.141976   6529.652892        1\n",
      "3427  33055.808635  26.289612   5351.851138        1\n",
      "\n",
      "[3428 rows x 4 columns]\n"
     ]
    }
   ],
   "source": [
    "print(df)"
   ]
  },
  {
   "cell_type": "markdown",
   "metadata": {},
   "source": [
    "# Train-Test Split"
   ]
  },
  {
   "cell_type": "code",
   "execution_count": 4,
   "metadata": {},
   "outputs": [],
   "source": [
    "X = df.loc[:, [\"income\",\"age\",\"loan\"]]"
   ]
  },
  {
   "cell_type": "code",
   "execution_count": 5,
   "metadata": {},
   "outputs": [],
   "source": [
    "Y = df.loc[:,[\"default\"]]"
   ]
  },
  {
   "cell_type": "code",
   "execution_count": 6,
   "metadata": {},
   "outputs": [],
   "source": [
    "from sklearn.model_selection import train_test_split"
   ]
  },
  {
   "cell_type": "code",
   "execution_count": 7,
   "metadata": {},
   "outputs": [
    {
     "name": "stdout",
     "output_type": "stream",
     "text": [
      "            income        age          loan\n",
      "2993  68924.039892  28.230691   9846.870552\n",
      "2770  63655.604386  27.527984   8865.812735\n",
      "2039  61761.297409  28.534865  10907.092117\n",
      "1317  41944.268190  61.135063   1203.700529\n",
      "3180  67346.131559  27.137647  13347.885966\n",
      "...            ...        ...           ...\n",
      "3301  43675.562357  32.480202   6741.071433\n",
      "2218  37960.925789  25.207112   5525.167154\n",
      "3279  43667.856513  27.960958   7073.071812\n",
      "1359  23450.872130  34.406370   1419.805523\n",
      "1190  60103.011570  56.053772   2632.265613\n",
      "\n",
      "[2571 rows x 3 columns]             income        age         loan\n",
      "2629  44020.312726  22.516752  5543.029537\n",
      "1771  48211.581840  30.557344  2606.124698\n",
      "2003  64543.780869  26.104653  9724.127771\n",
      "1114  43588.081430  40.495647  6453.057979\n",
      "955   53612.131230  23.282966  5976.896568\n",
      "...            ...        ...          ...\n",
      "1046  23787.367050  36.311713  3041.552908\n",
      "827   54421.054010  22.961534  6229.836019\n",
      "102   47634.549550  44.294871   141.703818\n",
      "2200  26540.708361  32.610329  3503.152964\n",
      "1369  61742.609580  34.559810   326.989568\n",
      "\n",
      "[857 rows x 3 columns]       default\n",
      "2993        1\n",
      "2770        1\n",
      "2039        1\n",
      "1317        0\n",
      "3180        1\n",
      "...       ...\n",
      "3301        1\n",
      "2218        1\n",
      "3279        1\n",
      "1359        0\n",
      "1190        0\n",
      "\n",
      "[2571 rows x 1 columns]       default\n",
      "2629        1\n",
      "1771        0\n",
      "2003        1\n",
      "1114        0\n",
      "955         0\n",
      "...       ...\n",
      "1046        0\n",
      "827         0\n",
      "102         0\n",
      "2200        1\n",
      "1369        0\n",
      "\n",
      "[857 rows x 1 columns]\n"
     ]
    }
   ],
   "source": [
    "X_train, X_test, Y_train, Y_test = train_test_split(X,Y)\n",
    "print(X_train, X_test, Y_train, Y_test)"
   ]
  },
  {
   "cell_type": "markdown",
   "metadata": {},
   "source": [
    "# Logistic Regression"
   ]
  },
  {
   "cell_type": "code",
   "execution_count": 8,
   "metadata": {},
   "outputs": [
    {
     "data": {
      "text/plain": [
       "income     0\n",
       "age        0\n",
       "loan       0\n",
       "default    0\n",
       "dtype: int64"
      ]
     },
     "execution_count": 8,
     "metadata": {},
     "output_type": "execute_result"
    }
   ],
   "source": [
    "df.isnull().sum().sort_values()\n",
    "#there are no null values"
   ]
  },
  {
   "cell_type": "code",
   "execution_count": 9,
   "metadata": {},
   "outputs": [
    {
     "name": "stdout",
     "output_type": "stream",
     "text": [
      "           income       age      loan   default\n",
      "income   1.000000 -0.028192  0.556173 -0.012761\n",
      "age     -0.028192  1.000000 -0.247657 -0.653537\n",
      "loan     0.556173 -0.247657  1.000000  0.508285\n",
      "default -0.012761 -0.653537  0.508285  1.000000\n"
     ]
    }
   ],
   "source": [
    "correlation = df.corr()\n",
    "#to get the correlation\n",
    "print(correlation)"
   ]
  },
  {
   "cell_type": "code",
   "execution_count": 10,
   "metadata": {},
   "outputs": [],
   "source": [
    "from sklearn import linear_model\n",
    "model = linear_model.LogisticRegression()"
   ]
  },
  {
   "cell_type": "code",
   "execution_count": 11,
   "metadata": {},
   "outputs": [
    {
     "name": "stderr",
     "output_type": "stream",
     "text": [
      "/Users/Wenz/opt/anaconda3/lib/python3.7/site-packages/sklearn/utils/validation.py:760: DataConversionWarning: A column-vector y was passed when a 1d array was expected. Please change the shape of y to (n_samples, ), for example using ravel().\n",
      "  y = column_or_1d(y, warn=True)\n"
     ]
    },
    {
     "data": {
      "text/plain": [
       "LogisticRegression(C=1.0, class_weight=None, dual=False, fit_intercept=True,\n",
       "                   intercept_scaling=1, l1_ratio=None, max_iter=100,\n",
       "                   multi_class='auto', n_jobs=None, penalty='l2',\n",
       "                   random_state=None, solver='lbfgs', tol=0.0001, verbose=0,\n",
       "                   warm_start=False)"
      ]
     },
     "execution_count": 11,
     "metadata": {},
     "output_type": "execute_result"
    }
   ],
   "source": [
    "model.fit(X_train, Y_train)"
   ]
  },
  {
   "cell_type": "code",
   "execution_count": 12,
   "metadata": {},
   "outputs": [],
   "source": [
    "#predicting using train set\n",
    "pred = model.predict(X_train)"
   ]
  },
  {
   "cell_type": "code",
   "execution_count": 13,
   "metadata": {},
   "outputs": [],
   "source": [
    "from sklearn.metrics import confusion_matrix"
   ]
  },
  {
   "cell_type": "code",
   "execution_count": 14,
   "metadata": {},
   "outputs": [
    {
     "name": "stdout",
     "output_type": "stream",
     "text": [
      "[[1138  151]\n",
      " [ 237 1045]]\n"
     ]
    }
   ],
   "source": [
    "#evaluating prediction using confusion matrix - train set\n",
    "cm = confusion_matrix(Y_train, pred)\n",
    "print(cm)"
   ]
  },
  {
   "cell_type": "code",
   "execution_count": 15,
   "metadata": {},
   "outputs": [
    {
     "name": "stdout",
     "output_type": "stream",
     "text": [
      "0.8490859587709063\n"
     ]
    }
   ],
   "source": [
    "#accuracy of model - train set (%)\n",
    "accuracy = (cm[0,0]+cm[1,1])/sum(sum(cm))\n",
    "print(accuracy)"
   ]
  },
  {
   "cell_type": "code",
   "execution_count": 16,
   "metadata": {},
   "outputs": [],
   "source": [
    "# implementing model on test set\n",
    "pred = model.predict(X_test)"
   ]
  },
  {
   "cell_type": "code",
   "execution_count": 17,
   "metadata": {},
   "outputs": [
    {
     "name": "stdout",
     "output_type": "stream",
     "text": [
      "[[379  46]\n",
      " [ 64 368]]\n"
     ]
    }
   ],
   "source": [
    "#evaluating prediction using confusion matrix - test set\n",
    "cm = confusion_matrix(Y_test, pred)\n",
    "print(cm)"
   ]
  },
  {
   "cell_type": "code",
   "execution_count": 18,
   "metadata": {},
   "outputs": [
    {
     "name": "stdout",
     "output_type": "stream",
     "text": [
      "0.8716452742123687\n"
     ]
    }
   ],
   "source": [
    "#accuracy of model - test set (%)\n",
    "accuracy = (cm[0,0]+cm[1,1])/sum(sum(cm))\n",
    "print(accuracy)"
   ]
  },
  {
   "cell_type": "code",
   "execution_count": 19,
   "metadata": {},
   "outputs": [
    {
     "data": {
      "text/plain": [
       "['Weiyu_LogisticRegression']"
      ]
     },
     "execution_count": 19,
     "metadata": {},
     "output_type": "execute_result"
    }
   ],
   "source": [
    "import joblib\n",
    "joblib.dump (model, \"Weiyu_LogisticRegression\")"
   ]
  },
  {
   "cell_type": "markdown",
   "metadata": {},
   "source": [
    "# Decision Tree"
   ]
  },
  {
   "cell_type": "code",
   "execution_count": 20,
   "metadata": {},
   "outputs": [],
   "source": [
    "from sklearn import tree"
   ]
  },
  {
   "cell_type": "code",
   "execution_count": 21,
   "metadata": {},
   "outputs": [],
   "source": [
    "model = tree.DecisionTreeClassifier()  "
   ]
  },
  {
   "cell_type": "code",
   "execution_count": 22,
   "metadata": {},
   "outputs": [
    {
     "data": {
      "text/plain": [
       "DecisionTreeClassifier(ccp_alpha=0.0, class_weight=None, criterion='gini',\n",
       "                       max_depth=None, max_features=None, max_leaf_nodes=None,\n",
       "                       min_impurity_decrease=0.0, min_impurity_split=None,\n",
       "                       min_samples_leaf=1, min_samples_split=2,\n",
       "                       min_weight_fraction_leaf=0.0, presort='deprecated',\n",
       "                       random_state=None, splitter='best')"
      ]
     },
     "execution_count": 22,
     "metadata": {},
     "output_type": "execute_result"
    }
   ],
   "source": [
    "model.fit(X_train, Y_train) "
   ]
  },
  {
   "cell_type": "code",
   "execution_count": 23,
   "metadata": {},
   "outputs": [],
   "source": [
    "pred = model.predict(X_train)"
   ]
  },
  {
   "cell_type": "code",
   "execution_count": 24,
   "metadata": {},
   "outputs": [
    {
     "name": "stdout",
     "output_type": "stream",
     "text": [
      "[[1289    0]\n",
      " [   0 1282]]\n"
     ]
    }
   ],
   "source": [
    "# evaluating prediction using confusion matrix - train set\n",
    "cm = confusion_matrix(Y_train, pred)\n",
    "print(cm)"
   ]
  },
  {
   "cell_type": "code",
   "execution_count": 25,
   "metadata": {},
   "outputs": [
    {
     "name": "stdout",
     "output_type": "stream",
     "text": [
      "1.0\n"
     ]
    }
   ],
   "source": [
    "#accuracy of model - train set (%)\n",
    "accuracy = (cm[0,0] +cm[1,1])/sum(sum(cm))\n",
    "print(accuracy)"
   ]
  },
  {
   "cell_type": "code",
   "execution_count": 26,
   "metadata": {},
   "outputs": [],
   "source": [
    "pred = model.predict(X_test)"
   ]
  },
  {
   "cell_type": "code",
   "execution_count": 27,
   "metadata": {},
   "outputs": [
    {
     "name": "stdout",
     "output_type": "stream",
     "text": [
      "[[413  12]\n",
      " [  2 430]]\n"
     ]
    }
   ],
   "source": [
    "# evaluating prediction using confusion matrix - test set\n",
    "cm = confusion_matrix(Y_test, pred)\n",
    "print(cm)"
   ]
  },
  {
   "cell_type": "code",
   "execution_count": 28,
   "metadata": {},
   "outputs": [
    {
     "name": "stdout",
     "output_type": "stream",
     "text": [
      "0.9836639439906651\n"
     ]
    }
   ],
   "source": [
    "#accuracy of model - test set (%)\n",
    "accuracy = (cm[0,0] +cm[1,1])/sum(sum(cm))\n",
    "print(accuracy)"
   ]
  },
  {
   "cell_type": "code",
   "execution_count": 29,
   "metadata": {},
   "outputs": [],
   "source": [
    "# Splitting train set into train and test set\n",
    "X_train1, X_test1, Y_train1, Y_test1 = train_test_split(X_train, Y_train, test_size = 0.3)"
   ]
  },
  {
   "cell_type": "code",
   "execution_count": 30,
   "metadata": {},
   "outputs": [
    {
     "name": "stdout",
     "output_type": "stream",
     "text": [
      "1\n",
      "0.8652849740932642\n",
      "++++++++++++++++\n",
      "2\n",
      "0.9430051813471503\n",
      "++++++++++++++++\n",
      "3\n",
      "0.9468911917098446\n",
      "++++++++++++++++\n",
      "4\n",
      "0.9792746113989638\n",
      "++++++++++++++++\n",
      "5\n",
      "0.9870466321243523\n",
      "++++++++++++++++\n",
      "6\n",
      "0.9883419689119171\n",
      "++++++++++++++++\n",
      "7\n",
      "0.9883419689119171\n",
      "++++++++++++++++\n",
      "8\n",
      "0.9922279792746114\n",
      "++++++++++++++++\n",
      "9\n",
      "0.9922279792746114\n",
      "++++++++++++++++\n",
      "10\n",
      "0.9909326424870466\n",
      "++++++++++++++++\n",
      "11\n",
      "0.9922279792746114\n",
      "++++++++++++++++\n",
      "12\n",
      "0.9870466321243523\n",
      "++++++++++++++++\n",
      "13\n",
      "0.9922279792746114\n",
      "++++++++++++++++\n",
      "14\n",
      "0.9883419689119171\n",
      "++++++++++++++++\n",
      "15\n",
      "0.9883419689119171\n",
      "++++++++++++++++\n",
      "16\n",
      "0.9922279792746114\n",
      "++++++++++++++++\n",
      "17\n",
      "0.9909326424870466\n",
      "++++++++++++++++\n",
      "18\n",
      "0.9883419689119171\n",
      "++++++++++++++++\n",
      "19\n",
      "0.9909326424870466\n",
      "++++++++++++++++\n",
      "20\n",
      "0.9870466321243523\n",
      "++++++++++++++++\n"
     ]
    }
   ],
   "source": [
    "#finding the best depth\n",
    "for i in range(20):\n",
    "    model = tree.DecisionTreeClassifier(max_depth=i+1)\n",
    "    model.fit(X_train1, Y_train1)\n",
    "    pred = model.predict(X_test1)\n",
    "    cm = confusion_matrix(Y_test1, pred)\n",
    "    print(i+1)\n",
    "    print((cm[0,0]+cm[1,1])/(sum(sum(cm))))\n",
    "    print(\"++++++++++++++++\")\n",
    "#best depth = 11\n"
   ]
  },
  {
   "cell_type": "code",
   "execution_count": 31,
   "metadata": {},
   "outputs": [
    {
     "data": {
      "text/plain": [
       "DecisionTreeClassifier(ccp_alpha=0.0, class_weight=None, criterion='gini',\n",
       "                       max_depth=11, max_features=None, max_leaf_nodes=None,\n",
       "                       min_impurity_decrease=0.0, min_impurity_split=None,\n",
       "                       min_samples_leaf=1, min_samples_split=2,\n",
       "                       min_weight_fraction_leaf=0.0, presort='deprecated',\n",
       "                       random_state=None, splitter='best')"
      ]
     },
     "execution_count": 31,
     "metadata": {},
     "output_type": "execute_result"
    }
   ],
   "source": [
    "# Plugging in best depth into original train set\n",
    "model = tree.DecisionTreeClassifier(max_depth = 11)\n",
    "model.fit(X_train, Y_train)"
   ]
  },
  {
   "cell_type": "code",
   "execution_count": 32,
   "metadata": {},
   "outputs": [
    {
     "name": "stdout",
     "output_type": "stream",
     "text": [
      "[[1289    0]\n",
      " [   0 1282]]\n",
      "1.0\n"
     ]
    }
   ],
   "source": [
    "# evaluating prediction using confusion matrix - original train set\n",
    "pred = model.predict(X_train)\n",
    "cm = confusion_matrix(Y_train, pred)\n",
    "print(cm)\n",
    "\n",
    "#accuracy of model - original train set (%)\n",
    "accuracy = (cm[0,0] +cm[1,1])/sum(sum(cm))\n",
    "print(accuracy)"
   ]
  },
  {
   "cell_type": "code",
   "execution_count": 33,
   "metadata": {},
   "outputs": [
    {
     "name": "stdout",
     "output_type": "stream",
     "text": [
      "[[413  12]\n",
      " [  2 430]]\n",
      "0.9836639439906651\n"
     ]
    }
   ],
   "source": [
    "# evaluating prediction using confusion matrix - original test set\n",
    "pred = model.predict(X_test)\n",
    "cm = confusion_matrix(Y_test, pred)\n",
    "print(cm)\n",
    "\n",
    "#accuracy of model - test set_1 (%)\n",
    "accuracy = (cm[0,0] +cm[1,1])/sum(sum(cm))\n",
    "print(accuracy)"
   ]
  },
  {
   "cell_type": "code",
   "execution_count": 34,
   "metadata": {},
   "outputs": [
    {
     "name": "stdout",
     "output_type": "stream",
     "text": [
      "1\n",
      "0.9883419689119171\n",
      "++++++++++++++++\n",
      "2\n",
      "0.9870466321243523\n",
      "++++++++++++++++\n",
      "3\n",
      "0.9883419689119171\n",
      "++++++++++++++++\n",
      "4\n",
      "0.9883419689119171\n",
      "++++++++++++++++\n",
      "5\n",
      "0.9883419689119171\n",
      "++++++++++++++++\n",
      "6\n",
      "0.9870466321243523\n",
      "++++++++++++++++\n",
      "7\n",
      "0.9870466321243523\n",
      "++++++++++++++++\n",
      "8\n",
      "0.9883419689119171\n",
      "++++++++++++++++\n",
      "9\n",
      "0.9883419689119171\n",
      "++++++++++++++++\n",
      "10\n",
      "0.9883419689119171\n",
      "++++++++++++++++\n",
      "11\n",
      "0.9883419689119171\n",
      "++++++++++++++++\n",
      "12\n",
      "0.9883419689119171\n",
      "++++++++++++++++\n",
      "13\n",
      "0.9883419689119171\n",
      "++++++++++++++++\n",
      "14\n",
      "0.9883419689119171\n",
      "++++++++++++++++\n",
      "15\n",
      "0.9883419689119171\n",
      "++++++++++++++++\n",
      "16\n",
      "0.9883419689119171\n",
      "++++++++++++++++\n",
      "17\n",
      "0.9883419689119171\n",
      "++++++++++++++++\n",
      "18\n",
      "0.9883419689119171\n",
      "++++++++++++++++\n",
      "19\n",
      "0.9883419689119171\n",
      "++++++++++++++++\n",
      "20\n",
      "0.9883419689119171\n",
      "++++++++++++++++\n",
      "21\n",
      "0.9883419689119171\n",
      "++++++++++++++++\n",
      "22\n",
      "0.9883419689119171\n",
      "++++++++++++++++\n",
      "23\n",
      "0.9883419689119171\n",
      "++++++++++++++++\n",
      "24\n",
      "0.9883419689119171\n",
      "++++++++++++++++\n",
      "25\n",
      "0.9883419689119171\n",
      "++++++++++++++++\n",
      "26\n",
      "0.9883419689119171\n",
      "++++++++++++++++\n",
      "27\n",
      "0.9883419689119171\n",
      "++++++++++++++++\n",
      "28\n",
      "0.9883419689119171\n",
      "++++++++++++++++\n",
      "29\n",
      "0.9883419689119171\n",
      "++++++++++++++++\n",
      "30\n",
      "0.9883419689119171\n",
      "++++++++++++++++\n",
      "31\n",
      "0.9883419689119171\n",
      "++++++++++++++++\n",
      "32\n",
      "0.9883419689119171\n",
      "++++++++++++++++\n",
      "33\n",
      "0.9883419689119171\n",
      "++++++++++++++++\n",
      "34\n",
      "0.9883419689119171\n",
      "++++++++++++++++\n",
      "35\n",
      "0.9883419689119171\n",
      "++++++++++++++++\n",
      "36\n",
      "0.9883419689119171\n",
      "++++++++++++++++\n",
      "37\n",
      "0.9883419689119171\n",
      "++++++++++++++++\n",
      "38\n",
      "0.9883419689119171\n",
      "++++++++++++++++\n",
      "39\n",
      "0.9883419689119171\n",
      "++++++++++++++++\n",
      "40\n",
      "0.9883419689119171\n",
      "++++++++++++++++\n",
      "41\n",
      "0.9883419689119171\n",
      "++++++++++++++++\n",
      "42\n",
      "0.9883419689119171\n",
      "++++++++++++++++\n",
      "43\n",
      "0.9883419689119171\n",
      "++++++++++++++++\n",
      "44\n",
      "0.9883419689119171\n",
      "++++++++++++++++\n",
      "45\n",
      "0.9883419689119171\n",
      "++++++++++++++++\n",
      "46\n",
      "0.9883419689119171\n",
      "++++++++++++++++\n",
      "47\n",
      "0.9883419689119171\n",
      "++++++++++++++++\n",
      "48\n",
      "0.9883419689119171\n",
      "++++++++++++++++\n",
      "49\n",
      "0.9883419689119171\n",
      "++++++++++++++++\n",
      "50\n",
      "0.9883419689119171\n",
      "++++++++++++++++\n",
      "51\n",
      "0.9883419689119171\n",
      "++++++++++++++++\n",
      "52\n",
      "0.9883419689119171\n",
      "++++++++++++++++\n",
      "53\n",
      "0.9870466321243523\n",
      "++++++++++++++++\n",
      "54\n",
      "0.9870466321243523\n",
      "++++++++++++++++\n",
      "55\n",
      "0.9870466321243523\n",
      "++++++++++++++++\n",
      "56\n",
      "0.9870466321243523\n",
      "++++++++++++++++\n",
      "57\n",
      "0.9870466321243523\n",
      "++++++++++++++++\n",
      "58\n",
      "0.9870466321243523\n",
      "++++++++++++++++\n",
      "59\n",
      "0.9870466321243523\n",
      "++++++++++++++++\n",
      "60\n",
      "0.9870466321243523\n",
      "++++++++++++++++\n",
      "61\n",
      "0.9870466321243523\n",
      "++++++++++++++++\n",
      "62\n",
      "0.9870466321243523\n",
      "++++++++++++++++\n",
      "63\n",
      "0.9870466321243523\n",
      "++++++++++++++++\n",
      "64\n",
      "0.9870466321243523\n",
      "++++++++++++++++\n",
      "65\n",
      "0.9870466321243523\n",
      "++++++++++++++++\n",
      "66\n",
      "0.9870466321243523\n",
      "++++++++++++++++\n",
      "67\n",
      "0.9870466321243523\n",
      "++++++++++++++++\n",
      "68\n",
      "0.9870466321243523\n",
      "++++++++++++++++\n",
      "69\n",
      "0.9870466321243523\n",
      "++++++++++++++++\n",
      "70\n",
      "0.9870466321243523\n",
      "++++++++++++++++\n",
      "71\n",
      "0.9870466321243523\n",
      "++++++++++++++++\n",
      "72\n",
      "0.9870466321243523\n",
      "++++++++++++++++\n",
      "73\n",
      "0.9870466321243523\n",
      "++++++++++++++++\n",
      "74\n",
      "0.9870466321243523\n",
      "++++++++++++++++\n",
      "75\n",
      "0.9870466321243523\n",
      "++++++++++++++++\n",
      "76\n",
      "0.9870466321243523\n",
      "++++++++++++++++\n",
      "77\n",
      "0.9870466321243523\n",
      "++++++++++++++++\n",
      "78\n",
      "0.9870466321243523\n",
      "++++++++++++++++\n",
      "79\n",
      "0.9870466321243523\n",
      "++++++++++++++++\n",
      "80\n",
      "0.9870466321243523\n",
      "++++++++++++++++\n",
      "81\n",
      "0.9870466321243523\n",
      "++++++++++++++++\n",
      "82\n",
      "0.9870466321243523\n",
      "++++++++++++++++\n",
      "83\n",
      "0.9870466321243523\n",
      "++++++++++++++++\n",
      "84\n",
      "0.9870466321243523\n",
      "++++++++++++++++\n",
      "85\n",
      "0.9870466321243523\n",
      "++++++++++++++++\n",
      "86\n",
      "0.9870466321243523\n",
      "++++++++++++++++\n",
      "87\n",
      "0.9870466321243523\n",
      "++++++++++++++++\n",
      "88\n",
      "0.9870466321243523\n",
      "++++++++++++++++\n",
      "89\n",
      "0.9870466321243523\n",
      "++++++++++++++++\n",
      "90\n",
      "0.9870466321243523\n",
      "++++++++++++++++\n",
      "91\n",
      "0.9870466321243523\n",
      "++++++++++++++++\n",
      "92\n",
      "0.9870466321243523\n",
      "++++++++++++++++\n",
      "93\n",
      "0.9870466321243523\n",
      "++++++++++++++++\n",
      "94\n",
      "0.9870466321243523\n",
      "++++++++++++++++\n",
      "95\n",
      "0.9870466321243523\n",
      "++++++++++++++++\n",
      "96\n",
      "0.9870466321243523\n",
      "++++++++++++++++\n",
      "97\n",
      "0.9870466321243523\n",
      "++++++++++++++++\n",
      "98\n",
      "0.9870466321243523\n",
      "++++++++++++++++\n",
      "99\n",
      "0.9870466321243523\n",
      "++++++++++++++++\n",
      "100\n",
      "0.9870466321243523\n",
      "++++++++++++++++\n",
      "101\n",
      "0.9870466321243523\n",
      "++++++++++++++++\n",
      "102\n",
      "0.9870466321243523\n",
      "++++++++++++++++\n",
      "103\n",
      "0.9870466321243523\n",
      "++++++++++++++++\n",
      "104\n",
      "0.9870466321243523\n",
      "++++++++++++++++\n",
      "105\n",
      "0.9870466321243523\n",
      "++++++++++++++++\n",
      "106\n",
      "0.9870466321243523\n",
      "++++++++++++++++\n",
      "107\n",
      "0.9870466321243523\n",
      "++++++++++++++++\n",
      "108\n",
      "0.9870466321243523\n",
      "++++++++++++++++\n",
      "109\n",
      "0.9870466321243523\n",
      "++++++++++++++++\n",
      "110\n",
      "0.9870466321243523\n",
      "++++++++++++++++\n",
      "111\n",
      "0.9870466321243523\n",
      "++++++++++++++++\n",
      "112\n",
      "0.9870466321243523\n",
      "++++++++++++++++\n",
      "113\n",
      "0.9870466321243523\n",
      "++++++++++++++++\n",
      "114\n",
      "0.9870466321243523\n",
      "++++++++++++++++\n",
      "115\n",
      "0.9870466321243523\n",
      "++++++++++++++++\n",
      "116\n",
      "0.9870466321243523\n",
      "++++++++++++++++\n",
      "117\n",
      "0.9870466321243523\n",
      "++++++++++++++++\n",
      "118\n",
      "0.9870466321243523\n",
      "++++++++++++++++\n",
      "119\n",
      "0.9870466321243523\n",
      "++++++++++++++++\n",
      "120\n",
      "0.9870466321243523\n",
      "++++++++++++++++\n",
      "121\n",
      "0.9870466321243523\n",
      "++++++++++++++++\n",
      "122\n",
      "0.9870466321243523\n",
      "++++++++++++++++\n",
      "123\n",
      "0.9870466321243523\n",
      "++++++++++++++++\n",
      "124\n",
      "0.9870466321243523\n",
      "++++++++++++++++\n",
      "125\n",
      "0.9870466321243523\n",
      "++++++++++++++++\n",
      "126\n",
      "0.9870466321243523\n",
      "++++++++++++++++\n",
      "127\n",
      "0.9870466321243523\n",
      "++++++++++++++++\n",
      "128\n",
      "0.9870466321243523\n",
      "++++++++++++++++\n",
      "129\n",
      "0.9870466321243523\n",
      "++++++++++++++++\n",
      "130\n",
      "0.9870466321243523\n",
      "++++++++++++++++\n",
      "131\n",
      "0.9870466321243523\n",
      "++++++++++++++++\n",
      "132\n",
      "0.9870466321243523\n",
      "++++++++++++++++\n",
      "133\n",
      "0.9831606217616581\n",
      "++++++++++++++++\n",
      "134\n",
      "0.9831606217616581\n",
      "++++++++++++++++\n",
      "135\n",
      "0.9831606217616581\n",
      "++++++++++++++++\n",
      "136\n",
      "0.9831606217616581\n",
      "++++++++++++++++\n",
      "137\n",
      "0.9831606217616581\n",
      "++++++++++++++++\n",
      "138\n",
      "0.9831606217616581\n",
      "++++++++++++++++\n",
      "139\n",
      "0.9831606217616581\n",
      "++++++++++++++++\n",
      "140\n",
      "0.9831606217616581\n",
      "++++++++++++++++\n",
      "141\n",
      "0.9831606217616581\n",
      "++++++++++++++++\n",
      "142\n",
      "0.9831606217616581\n",
      "++++++++++++++++\n",
      "143\n",
      "0.9831606217616581\n",
      "++++++++++++++++\n",
      "144\n",
      "0.9831606217616581\n",
      "++++++++++++++++\n",
      "145\n",
      "0.9831606217616581\n",
      "++++++++++++++++\n",
      "146\n",
      "0.9831606217616581\n",
      "++++++++++++++++\n",
      "147\n",
      "0.9831606217616581\n",
      "++++++++++++++++\n",
      "148\n",
      "0.9831606217616581\n",
      "++++++++++++++++\n",
      "149\n",
      "0.9831606217616581\n",
      "++++++++++++++++\n",
      "150\n",
      "0.9831606217616581\n",
      "++++++++++++++++\n"
     ]
    }
   ],
   "source": [
    "#finding the best split\n",
    "for i in range(150):\n",
    "    model = tree.DecisionTreeClassifier(min_samples_split=i+5)\n",
    "    model.fit(X_train1, Y_train1)\n",
    "    pred = model.predict(X_test1)\n",
    "    cm = confusion_matrix(Y_test1, pred)\n",
    "    print(i+1)\n",
    "    print((cm[0,0]+cm[1,1])/(sum(sum(cm))))\n",
    "    print(\"++++++++++++++++\")\n",
    "#since 1 is the highest, it is best not to split"
   ]
  },
  {
   "cell_type": "code",
   "execution_count": 35,
   "metadata": {},
   "outputs": [
    {
     "data": {
      "text/plain": [
       "['Weiyu_DecisionTree']"
      ]
     },
     "execution_count": 35,
     "metadata": {},
     "output_type": "execute_result"
    }
   ],
   "source": [
    "joblib.dump (model, \"Weiyu_DecisionTree\")"
   ]
  },
  {
   "cell_type": "markdown",
   "metadata": {},
   "source": [
    "# Random Forest"
   ]
  },
  {
   "cell_type": "code",
   "execution_count": 36,
   "metadata": {},
   "outputs": [],
   "source": [
    "from sklearn import ensemble\n",
    "from sklearn.ensemble import RandomForestClassifier"
   ]
  },
  {
   "cell_type": "code",
   "execution_count": 37,
   "metadata": {},
   "outputs": [
    {
     "name": "stderr",
     "output_type": "stream",
     "text": [
      "/Users/Wenz/opt/anaconda3/lib/python3.7/site-packages/ipykernel_launcher.py:2: DataConversionWarning: A column-vector y was passed when a 1d array was expected. Please change the shape of y to (n_samples,), for example using ravel().\n",
      "  \n"
     ]
    },
    {
     "data": {
      "text/plain": [
       "RandomForestClassifier(bootstrap=True, ccp_alpha=0.0, class_weight=None,\n",
       "                       criterion='gini', max_depth=None, max_features='auto',\n",
       "                       max_leaf_nodes=None, max_samples=None,\n",
       "                       min_impurity_decrease=0.0, min_impurity_split=None,\n",
       "                       min_samples_leaf=1, min_samples_split=2,\n",
       "                       min_weight_fraction_leaf=0.0, n_estimators=100,\n",
       "                       n_jobs=None, oob_score=False, random_state=None,\n",
       "                       verbose=0, warm_start=False)"
      ]
     },
     "execution_count": 37,
     "metadata": {},
     "output_type": "execute_result"
    }
   ],
   "source": [
    "model = ensemble.RandomForestClassifier()\n",
    "model.fit(X_train, Y_train)"
   ]
  },
  {
   "cell_type": "code",
   "execution_count": 38,
   "metadata": {},
   "outputs": [
    {
     "name": "stderr",
     "output_type": "stream",
     "text": [
      "/Users/Wenz/opt/anaconda3/lib/python3.7/site-packages/ipykernel_launcher.py:4: DataConversionWarning: A column-vector y was passed when a 1d array was expected. Please change the shape of y to (n_samples,), for example using ravel().\n",
      "  after removing the cwd from sys.path.\n",
      "/Users/Wenz/opt/anaconda3/lib/python3.7/site-packages/ipykernel_launcher.py:4: DataConversionWarning: A column-vector y was passed when a 1d array was expected. Please change the shape of y to (n_samples,), for example using ravel().\n",
      "  after removing the cwd from sys.path.\n"
     ]
    },
    {
     "name": "stdout",
     "output_type": "stream",
     "text": [
      "1\n",
      "0.9468911917098446\n",
      "++++++++++++++++\n",
      "2\n",
      "0.9520725388601037\n",
      "++++++++++++++++\n"
     ]
    },
    {
     "name": "stderr",
     "output_type": "stream",
     "text": [
      "/Users/Wenz/opt/anaconda3/lib/python3.7/site-packages/ipykernel_launcher.py:4: DataConversionWarning: A column-vector y was passed when a 1d array was expected. Please change the shape of y to (n_samples,), for example using ravel().\n",
      "  after removing the cwd from sys.path.\n",
      "/Users/Wenz/opt/anaconda3/lib/python3.7/site-packages/ipykernel_launcher.py:4: DataConversionWarning: A column-vector y was passed when a 1d array was expected. Please change the shape of y to (n_samples,), for example using ravel().\n",
      "  after removing the cwd from sys.path.\n"
     ]
    },
    {
     "name": "stdout",
     "output_type": "stream",
     "text": [
      "3\n",
      "0.9559585492227979\n",
      "++++++++++++++++\n",
      "4\n",
      "0.9559585492227979\n",
      "++++++++++++++++\n",
      "5\n",
      "0.9753886010362695\n",
      "++++++++++++++++\n"
     ]
    },
    {
     "name": "stderr",
     "output_type": "stream",
     "text": [
      "/Users/Wenz/opt/anaconda3/lib/python3.7/site-packages/ipykernel_launcher.py:4: DataConversionWarning: A column-vector y was passed when a 1d array was expected. Please change the shape of y to (n_samples,), for example using ravel().\n",
      "  after removing the cwd from sys.path.\n",
      "/Users/Wenz/opt/anaconda3/lib/python3.7/site-packages/ipykernel_launcher.py:4: DataConversionWarning: A column-vector y was passed when a 1d array was expected. Please change the shape of y to (n_samples,), for example using ravel().\n",
      "  after removing the cwd from sys.path.\n"
     ]
    },
    {
     "name": "stdout",
     "output_type": "stream",
     "text": [
      "6\n",
      "0.9792746113989638\n",
      "++++++++++++++++\n"
     ]
    },
    {
     "name": "stderr",
     "output_type": "stream",
     "text": [
      "/Users/Wenz/opt/anaconda3/lib/python3.7/site-packages/ipykernel_launcher.py:4: DataConversionWarning: A column-vector y was passed when a 1d array was expected. Please change the shape of y to (n_samples,), for example using ravel().\n",
      "  after removing the cwd from sys.path.\n"
     ]
    },
    {
     "name": "stdout",
     "output_type": "stream",
     "text": [
      "7\n",
      "0.9870466321243523\n",
      "++++++++++++++++\n"
     ]
    },
    {
     "name": "stderr",
     "output_type": "stream",
     "text": [
      "/Users/Wenz/opt/anaconda3/lib/python3.7/site-packages/ipykernel_launcher.py:4: DataConversionWarning: A column-vector y was passed when a 1d array was expected. Please change the shape of y to (n_samples,), for example using ravel().\n",
      "  after removing the cwd from sys.path.\n"
     ]
    },
    {
     "name": "stdout",
     "output_type": "stream",
     "text": [
      "8\n",
      "0.9896373056994818\n",
      "++++++++++++++++\n"
     ]
    },
    {
     "name": "stderr",
     "output_type": "stream",
     "text": [
      "/Users/Wenz/opt/anaconda3/lib/python3.7/site-packages/ipykernel_launcher.py:4: DataConversionWarning: A column-vector y was passed when a 1d array was expected. Please change the shape of y to (n_samples,), for example using ravel().\n",
      "  after removing the cwd from sys.path.\n"
     ]
    },
    {
     "name": "stdout",
     "output_type": "stream",
     "text": [
      "9\n",
      "0.9922279792746114\n",
      "++++++++++++++++\n",
      "10\n",
      "0.9922279792746114\n",
      "++++++++++++++++\n"
     ]
    },
    {
     "name": "stderr",
     "output_type": "stream",
     "text": [
      "/Users/Wenz/opt/anaconda3/lib/python3.7/site-packages/ipykernel_launcher.py:4: DataConversionWarning: A column-vector y was passed when a 1d array was expected. Please change the shape of y to (n_samples,), for example using ravel().\n",
      "  after removing the cwd from sys.path.\n",
      "/Users/Wenz/opt/anaconda3/lib/python3.7/site-packages/ipykernel_launcher.py:4: DataConversionWarning: A column-vector y was passed when a 1d array was expected. Please change the shape of y to (n_samples,), for example using ravel().\n",
      "  after removing the cwd from sys.path.\n"
     ]
    },
    {
     "name": "stdout",
     "output_type": "stream",
     "text": [
      "11\n",
      "0.9948186528497409\n",
      "++++++++++++++++\n",
      "12\n",
      "0.9961139896373057\n",
      "++++++++++++++++\n"
     ]
    },
    {
     "name": "stderr",
     "output_type": "stream",
     "text": [
      "/Users/Wenz/opt/anaconda3/lib/python3.7/site-packages/ipykernel_launcher.py:4: DataConversionWarning: A column-vector y was passed when a 1d array was expected. Please change the shape of y to (n_samples,), for example using ravel().\n",
      "  after removing the cwd from sys.path.\n",
      "/Users/Wenz/opt/anaconda3/lib/python3.7/site-packages/ipykernel_launcher.py:4: DataConversionWarning: A column-vector y was passed when a 1d array was expected. Please change the shape of y to (n_samples,), for example using ravel().\n",
      "  after removing the cwd from sys.path.\n"
     ]
    },
    {
     "name": "stdout",
     "output_type": "stream",
     "text": [
      "13\n",
      "0.9922279792746114\n",
      "++++++++++++++++\n"
     ]
    },
    {
     "name": "stderr",
     "output_type": "stream",
     "text": [
      "/Users/Wenz/opt/anaconda3/lib/python3.7/site-packages/ipykernel_launcher.py:4: DataConversionWarning: A column-vector y was passed when a 1d array was expected. Please change the shape of y to (n_samples,), for example using ravel().\n",
      "  after removing the cwd from sys.path.\n"
     ]
    },
    {
     "name": "stdout",
     "output_type": "stream",
     "text": [
      "14\n",
      "0.9961139896373057\n",
      "++++++++++++++++\n"
     ]
    },
    {
     "name": "stderr",
     "output_type": "stream",
     "text": [
      "/Users/Wenz/opt/anaconda3/lib/python3.7/site-packages/ipykernel_launcher.py:4: DataConversionWarning: A column-vector y was passed when a 1d array was expected. Please change the shape of y to (n_samples,), for example using ravel().\n",
      "  after removing the cwd from sys.path.\n"
     ]
    },
    {
     "name": "stdout",
     "output_type": "stream",
     "text": [
      "15\n",
      "0.9935233160621761\n",
      "++++++++++++++++\n"
     ]
    },
    {
     "name": "stderr",
     "output_type": "stream",
     "text": [
      "/Users/Wenz/opt/anaconda3/lib/python3.7/site-packages/ipykernel_launcher.py:4: DataConversionWarning: A column-vector y was passed when a 1d array was expected. Please change the shape of y to (n_samples,), for example using ravel().\n",
      "  after removing the cwd from sys.path.\n"
     ]
    },
    {
     "name": "stdout",
     "output_type": "stream",
     "text": [
      "16\n",
      "0.9948186528497409\n",
      "++++++++++++++++\n"
     ]
    },
    {
     "name": "stderr",
     "output_type": "stream",
     "text": [
      "/Users/Wenz/opt/anaconda3/lib/python3.7/site-packages/ipykernel_launcher.py:4: DataConversionWarning: A column-vector y was passed when a 1d array was expected. Please change the shape of y to (n_samples,), for example using ravel().\n",
      "  after removing the cwd from sys.path.\n"
     ]
    },
    {
     "name": "stdout",
     "output_type": "stream",
     "text": [
      "17\n",
      "0.9948186528497409\n",
      "++++++++++++++++\n"
     ]
    },
    {
     "name": "stderr",
     "output_type": "stream",
     "text": [
      "/Users/Wenz/opt/anaconda3/lib/python3.7/site-packages/ipykernel_launcher.py:4: DataConversionWarning: A column-vector y was passed when a 1d array was expected. Please change the shape of y to (n_samples,), for example using ravel().\n",
      "  after removing the cwd from sys.path.\n"
     ]
    },
    {
     "name": "stdout",
     "output_type": "stream",
     "text": [
      "18\n",
      "0.9948186528497409\n",
      "++++++++++++++++\n"
     ]
    },
    {
     "name": "stderr",
     "output_type": "stream",
     "text": [
      "/Users/Wenz/opt/anaconda3/lib/python3.7/site-packages/ipykernel_launcher.py:4: DataConversionWarning: A column-vector y was passed when a 1d array was expected. Please change the shape of y to (n_samples,), for example using ravel().\n",
      "  after removing the cwd from sys.path.\n"
     ]
    },
    {
     "name": "stdout",
     "output_type": "stream",
     "text": [
      "19\n",
      "0.9935233160621761\n",
      "++++++++++++++++\n",
      "20\n",
      "0.9935233160621761\n",
      "++++++++++++++++\n"
     ]
    },
    {
     "name": "stderr",
     "output_type": "stream",
     "text": [
      "/Users/Wenz/opt/anaconda3/lib/python3.7/site-packages/ipykernel_launcher.py:4: DataConversionWarning: A column-vector y was passed when a 1d array was expected. Please change the shape of y to (n_samples,), for example using ravel().\n",
      "  after removing the cwd from sys.path.\n"
     ]
    }
   ],
   "source": [
    "#finding the best depth\n",
    "for i in range(20):\n",
    "    model = ensemble.RandomForestClassifier(max_depth=i+1)\n",
    "    model.fit(X_train1, Y_train1)\n",
    "    pred = model.predict(X_test1)\n",
    "    cm = confusion_matrix(Y_test1, pred)\n",
    "    print(i+1)\n",
    "    print((cm[0,0]+cm[1,1])/(sum(sum(cm))))\n",
    "    print(\"++++++++++++++++\")\n",
    "#best depth = 12\n",
    "\n"
   ]
  },
  {
   "cell_type": "code",
   "execution_count": 59,
   "metadata": {},
   "outputs": [
    {
     "name": "stderr",
     "output_type": "stream",
     "text": [
      "/Users/Wenz/opt/anaconda3/lib/python3.7/site-packages/ipykernel_launcher.py:3: DataConversionWarning: A column-vector y was passed when a 1d array was expected. Please change the shape of y to (n_samples,), for example using ravel().\n",
      "  This is separate from the ipykernel package so we can avoid doing imports until\n"
     ]
    },
    {
     "data": {
      "text/plain": [
       "RandomForestClassifier(bootstrap=True, ccp_alpha=0.0, class_weight=None,\n",
       "                       criterion='gini', max_depth=12, max_features='auto',\n",
       "                       max_leaf_nodes=None, max_samples=None,\n",
       "                       min_impurity_decrease=0.0, min_impurity_split=None,\n",
       "                       min_samples_leaf=1, min_samples_split=2,\n",
       "                       min_weight_fraction_leaf=0.0, n_estimators=100,\n",
       "                       n_jobs=None, oob_score=False, random_state=None,\n",
       "                       verbose=0, warm_start=False)"
      ]
     },
     "execution_count": 59,
     "metadata": {},
     "output_type": "execute_result"
    }
   ],
   "source": [
    "# Plugging in best depth into original train set\n",
    "model = ensemble.RandomForestClassifier(max_depth = 12)\n",
    "model.fit(X_train, Y_train)"
   ]
  },
  {
   "cell_type": "code",
   "execution_count": 60,
   "metadata": {},
   "outputs": [
    {
     "name": "stdout",
     "output_type": "stream",
     "text": [
      "[[1289    0]\n",
      " [   0 1282]]\n",
      "1.0\n"
     ]
    }
   ],
   "source": [
    "#evaluating the accuracy of the model on the train set\n",
    "pred = model.predict(X_train)\n",
    "cm = confusion_matrix(Y_train, pred)\n",
    "print(cm)\n",
    "accuracy = (cm[0,0]+cm[1,1])/(sum(sum(cm)))\n",
    "print(accuracy)"
   ]
  },
  {
   "cell_type": "code",
   "execution_count": 61,
   "metadata": {},
   "outputs": [
    {
     "name": "stdout",
     "output_type": "stream",
     "text": [
      "[[413  12]\n",
      " [  1 431]]\n",
      "0.9848308051341891\n"
     ]
    }
   ],
   "source": [
    "#evaluating the accuracy of the model on the test set\n",
    "pred = model.predict(X_test)\n",
    "cm = confusion_matrix(Y_test, pred)\n",
    "print(cm)\n",
    "accuracy = (cm[0,0]+cm[1,1])/(sum(sum(cm)))\n",
    "print(accuracy)"
   ]
  },
  {
   "cell_type": "code",
   "execution_count": 62,
   "metadata": {},
   "outputs": [
    {
     "data": {
      "text/plain": [
       "['Weiyu_RandomForest']"
      ]
     },
     "execution_count": 62,
     "metadata": {},
     "output_type": "execute_result"
    }
   ],
   "source": [
    "joblib.dump (model, \"Weiyu_RandomForest\")"
   ]
  },
  {
   "cell_type": "markdown",
   "metadata": {},
   "source": [
    "# XGBoost"
   ]
  },
  {
   "cell_type": "code",
   "execution_count": 43,
   "metadata": {},
   "outputs": [],
   "source": [
    "from sklearn.ensemble import GradientBoostingClassifier"
   ]
  },
  {
   "cell_type": "code",
   "execution_count": 44,
   "metadata": {},
   "outputs": [
    {
     "name": "stderr",
     "output_type": "stream",
     "text": [
      "/Users/Wenz/opt/anaconda3/lib/python3.7/site-packages/sklearn/ensemble/_gb.py:1454: DataConversionWarning: A column-vector y was passed when a 1d array was expected. Please change the shape of y to (n_samples, ), for example using ravel().\n",
      "  y = column_or_1d(y, warn=True)\n"
     ]
    },
    {
     "data": {
      "text/plain": [
       "GradientBoostingClassifier(ccp_alpha=0.0, criterion='friedman_mse', init=None,\n",
       "                           learning_rate=0.1, loss='deviance', max_depth=3,\n",
       "                           max_features=None, max_leaf_nodes=None,\n",
       "                           min_impurity_decrease=0.0, min_impurity_split=None,\n",
       "                           min_samples_leaf=1, min_samples_split=2,\n",
       "                           min_weight_fraction_leaf=0.0, n_estimators=100,\n",
       "                           n_iter_no_change=None, presort='deprecated',\n",
       "                           random_state=None, subsample=1.0, tol=0.0001,\n",
       "                           validation_fraction=0.1, verbose=0,\n",
       "                           warm_start=False)"
      ]
     },
     "execution_count": 44,
     "metadata": {},
     "output_type": "execute_result"
    }
   ],
   "source": [
    "model = ensemble.GradientBoostingClassifier()\n",
    "model.fit(X_train, Y_train)"
   ]
  },
  {
   "cell_type": "code",
   "execution_count": 45,
   "metadata": {},
   "outputs": [
    {
     "name": "stderr",
     "output_type": "stream",
     "text": [
      "/Users/Wenz/opt/anaconda3/lib/python3.7/site-packages/sklearn/ensemble/_gb.py:1454: DataConversionWarning: A column-vector y was passed when a 1d array was expected. Please change the shape of y to (n_samples, ), for example using ravel().\n",
      "  y = column_or_1d(y, warn=True)\n",
      "/Users/Wenz/opt/anaconda3/lib/python3.7/site-packages/sklearn/ensemble/_gb.py:1454: DataConversionWarning: A column-vector y was passed when a 1d array was expected. Please change the shape of y to (n_samples, ), for example using ravel().\n",
      "  y = column_or_1d(y, warn=True)\n"
     ]
    },
    {
     "name": "stdout",
     "output_type": "stream",
     "text": [
      "1\n",
      "0.9689119170984456\n",
      "++++++++++++++++\n",
      "2\n",
      "0.9896373056994818\n",
      "++++++++++++++++\n"
     ]
    },
    {
     "name": "stderr",
     "output_type": "stream",
     "text": [
      "/Users/Wenz/opt/anaconda3/lib/python3.7/site-packages/sklearn/ensemble/_gb.py:1454: DataConversionWarning: A column-vector y was passed when a 1d array was expected. Please change the shape of y to (n_samples, ), for example using ravel().\n",
      "  y = column_or_1d(y, warn=True)\n",
      "/Users/Wenz/opt/anaconda3/lib/python3.7/site-packages/sklearn/ensemble/_gb.py:1454: DataConversionWarning: A column-vector y was passed when a 1d array was expected. Please change the shape of y to (n_samples, ), for example using ravel().\n",
      "  y = column_or_1d(y, warn=True)\n"
     ]
    },
    {
     "name": "stdout",
     "output_type": "stream",
     "text": [
      "3\n",
      "0.9922279792746114\n",
      "++++++++++++++++\n",
      "4\n",
      "0.9922279792746114\n",
      "++++++++++++++++\n"
     ]
    },
    {
     "name": "stderr",
     "output_type": "stream",
     "text": [
      "/Users/Wenz/opt/anaconda3/lib/python3.7/site-packages/sklearn/ensemble/_gb.py:1454: DataConversionWarning: A column-vector y was passed when a 1d array was expected. Please change the shape of y to (n_samples, ), for example using ravel().\n",
      "  y = column_or_1d(y, warn=True)\n"
     ]
    },
    {
     "name": "stdout",
     "output_type": "stream",
     "text": [
      "5\n",
      "0.9922279792746114\n",
      "++++++++++++++++\n"
     ]
    },
    {
     "name": "stderr",
     "output_type": "stream",
     "text": [
      "/Users/Wenz/opt/anaconda3/lib/python3.7/site-packages/sklearn/ensemble/_gb.py:1454: DataConversionWarning: A column-vector y was passed when a 1d array was expected. Please change the shape of y to (n_samples, ), for example using ravel().\n",
      "  y = column_or_1d(y, warn=True)\n"
     ]
    },
    {
     "name": "stdout",
     "output_type": "stream",
     "text": [
      "6\n",
      "0.9948186528497409\n",
      "++++++++++++++++\n"
     ]
    },
    {
     "name": "stderr",
     "output_type": "stream",
     "text": [
      "/Users/Wenz/opt/anaconda3/lib/python3.7/site-packages/sklearn/ensemble/_gb.py:1454: DataConversionWarning: A column-vector y was passed when a 1d array was expected. Please change the shape of y to (n_samples, ), for example using ravel().\n",
      "  y = column_or_1d(y, warn=True)\n"
     ]
    },
    {
     "name": "stdout",
     "output_type": "stream",
     "text": [
      "7\n",
      "0.9922279792746114\n",
      "++++++++++++++++\n"
     ]
    },
    {
     "name": "stderr",
     "output_type": "stream",
     "text": [
      "/Users/Wenz/opt/anaconda3/lib/python3.7/site-packages/sklearn/ensemble/_gb.py:1454: DataConversionWarning: A column-vector y was passed when a 1d array was expected. Please change the shape of y to (n_samples, ), for example using ravel().\n",
      "  y = column_or_1d(y, warn=True)\n"
     ]
    },
    {
     "name": "stdout",
     "output_type": "stream",
     "text": [
      "8\n",
      "0.9935233160621761\n",
      "++++++++++++++++\n"
     ]
    },
    {
     "name": "stderr",
     "output_type": "stream",
     "text": [
      "/Users/Wenz/opt/anaconda3/lib/python3.7/site-packages/sklearn/ensemble/_gb.py:1454: DataConversionWarning: A column-vector y was passed when a 1d array was expected. Please change the shape of y to (n_samples, ), for example using ravel().\n",
      "  y = column_or_1d(y, warn=True)\n"
     ]
    },
    {
     "name": "stdout",
     "output_type": "stream",
     "text": [
      "9\n",
      "0.9935233160621761\n",
      "++++++++++++++++\n"
     ]
    },
    {
     "name": "stderr",
     "output_type": "stream",
     "text": [
      "/Users/Wenz/opt/anaconda3/lib/python3.7/site-packages/sklearn/ensemble/_gb.py:1454: DataConversionWarning: A column-vector y was passed when a 1d array was expected. Please change the shape of y to (n_samples, ), for example using ravel().\n",
      "  y = column_or_1d(y, warn=True)\n"
     ]
    },
    {
     "name": "stdout",
     "output_type": "stream",
     "text": [
      "10\n",
      "0.9922279792746114\n",
      "++++++++++++++++\n"
     ]
    },
    {
     "name": "stderr",
     "output_type": "stream",
     "text": [
      "/Users/Wenz/opt/anaconda3/lib/python3.7/site-packages/sklearn/ensemble/_gb.py:1454: DataConversionWarning: A column-vector y was passed when a 1d array was expected. Please change the shape of y to (n_samples, ), for example using ravel().\n",
      "  y = column_or_1d(y, warn=True)\n"
     ]
    },
    {
     "name": "stdout",
     "output_type": "stream",
     "text": [
      "11\n",
      "0.9922279792746114\n",
      "++++++++++++++++\n"
     ]
    },
    {
     "name": "stderr",
     "output_type": "stream",
     "text": [
      "/Users/Wenz/opt/anaconda3/lib/python3.7/site-packages/sklearn/ensemble/_gb.py:1454: DataConversionWarning: A column-vector y was passed when a 1d array was expected. Please change the shape of y to (n_samples, ), for example using ravel().\n",
      "  y = column_or_1d(y, warn=True)\n"
     ]
    },
    {
     "name": "stdout",
     "output_type": "stream",
     "text": [
      "12\n",
      "0.9922279792746114\n",
      "++++++++++++++++\n"
     ]
    },
    {
     "name": "stderr",
     "output_type": "stream",
     "text": [
      "/Users/Wenz/opt/anaconda3/lib/python3.7/site-packages/sklearn/ensemble/_gb.py:1454: DataConversionWarning: A column-vector y was passed when a 1d array was expected. Please change the shape of y to (n_samples, ), for example using ravel().\n",
      "  y = column_or_1d(y, warn=True)\n"
     ]
    },
    {
     "name": "stdout",
     "output_type": "stream",
     "text": [
      "13\n",
      "0.9922279792746114\n",
      "++++++++++++++++\n"
     ]
    },
    {
     "name": "stderr",
     "output_type": "stream",
     "text": [
      "/Users/Wenz/opt/anaconda3/lib/python3.7/site-packages/sklearn/ensemble/_gb.py:1454: DataConversionWarning: A column-vector y was passed when a 1d array was expected. Please change the shape of y to (n_samples, ), for example using ravel().\n",
      "  y = column_or_1d(y, warn=True)\n"
     ]
    },
    {
     "name": "stdout",
     "output_type": "stream",
     "text": [
      "14\n",
      "0.9922279792746114\n",
      "++++++++++++++++\n"
     ]
    },
    {
     "name": "stderr",
     "output_type": "stream",
     "text": [
      "/Users/Wenz/opt/anaconda3/lib/python3.7/site-packages/sklearn/ensemble/_gb.py:1454: DataConversionWarning: A column-vector y was passed when a 1d array was expected. Please change the shape of y to (n_samples, ), for example using ravel().\n",
      "  y = column_or_1d(y, warn=True)\n"
     ]
    },
    {
     "name": "stdout",
     "output_type": "stream",
     "text": [
      "15\n",
      "0.9922279792746114\n",
      "++++++++++++++++\n"
     ]
    },
    {
     "name": "stderr",
     "output_type": "stream",
     "text": [
      "/Users/Wenz/opt/anaconda3/lib/python3.7/site-packages/sklearn/ensemble/_gb.py:1454: DataConversionWarning: A column-vector y was passed when a 1d array was expected. Please change the shape of y to (n_samples, ), for example using ravel().\n",
      "  y = column_or_1d(y, warn=True)\n"
     ]
    },
    {
     "name": "stdout",
     "output_type": "stream",
     "text": [
      "16\n",
      "0.9896373056994818\n",
      "++++++++++++++++\n"
     ]
    },
    {
     "name": "stderr",
     "output_type": "stream",
     "text": [
      "/Users/Wenz/opt/anaconda3/lib/python3.7/site-packages/sklearn/ensemble/_gb.py:1454: DataConversionWarning: A column-vector y was passed when a 1d array was expected. Please change the shape of y to (n_samples, ), for example using ravel().\n",
      "  y = column_or_1d(y, warn=True)\n"
     ]
    },
    {
     "name": "stdout",
     "output_type": "stream",
     "text": [
      "17\n",
      "0.9922279792746114\n",
      "++++++++++++++++\n"
     ]
    },
    {
     "name": "stderr",
     "output_type": "stream",
     "text": [
      "/Users/Wenz/opt/anaconda3/lib/python3.7/site-packages/sklearn/ensemble/_gb.py:1454: DataConversionWarning: A column-vector y was passed when a 1d array was expected. Please change the shape of y to (n_samples, ), for example using ravel().\n",
      "  y = column_or_1d(y, warn=True)\n"
     ]
    },
    {
     "name": "stdout",
     "output_type": "stream",
     "text": [
      "18\n",
      "0.9922279792746114\n",
      "++++++++++++++++\n"
     ]
    },
    {
     "name": "stderr",
     "output_type": "stream",
     "text": [
      "/Users/Wenz/opt/anaconda3/lib/python3.7/site-packages/sklearn/ensemble/_gb.py:1454: DataConversionWarning: A column-vector y was passed when a 1d array was expected. Please change the shape of y to (n_samples, ), for example using ravel().\n",
      "  y = column_or_1d(y, warn=True)\n"
     ]
    },
    {
     "name": "stdout",
     "output_type": "stream",
     "text": [
      "19\n",
      "0.9922279792746114\n",
      "++++++++++++++++\n"
     ]
    },
    {
     "name": "stderr",
     "output_type": "stream",
     "text": [
      "/Users/Wenz/opt/anaconda3/lib/python3.7/site-packages/sklearn/ensemble/_gb.py:1454: DataConversionWarning: A column-vector y was passed when a 1d array was expected. Please change the shape of y to (n_samples, ), for example using ravel().\n",
      "  y = column_or_1d(y, warn=True)\n"
     ]
    },
    {
     "name": "stdout",
     "output_type": "stream",
     "text": [
      "20\n",
      "0.9922279792746114\n",
      "++++++++++++++++\n"
     ]
    }
   ],
   "source": [
    "#finding the best depth\n",
    "for i in range(20):\n",
    "    model = ensemble.GradientBoostingClassifier(max_depth=i+1)\n",
    "    model.fit(X_train1, Y_train1)\n",
    "    pred = model.predict(X_test1)\n",
    "    cm = confusion_matrix(Y_test1, pred)\n",
    "    print(i+1)\n",
    "    print((cm[0,0]+cm[1,1])/(sum(sum(cm))))\n",
    "    print(\"++++++++++++++++\")\n",
    "#best depth = 6"
   ]
  },
  {
   "cell_type": "code",
   "execution_count": 63,
   "metadata": {},
   "outputs": [
    {
     "name": "stderr",
     "output_type": "stream",
     "text": [
      "/Users/Wenz/opt/anaconda3/lib/python3.7/site-packages/sklearn/ensemble/_gb.py:1454: DataConversionWarning: A column-vector y was passed when a 1d array was expected. Please change the shape of y to (n_samples, ), for example using ravel().\n",
      "  y = column_or_1d(y, warn=True)\n"
     ]
    },
    {
     "data": {
      "text/plain": [
       "GradientBoostingClassifier(ccp_alpha=0.0, criterion='friedman_mse', init=None,\n",
       "                           learning_rate=0.1, loss='deviance', max_depth=6,\n",
       "                           max_features=None, max_leaf_nodes=None,\n",
       "                           min_impurity_decrease=0.0, min_impurity_split=None,\n",
       "                           min_samples_leaf=1, min_samples_split=2,\n",
       "                           min_weight_fraction_leaf=0.0, n_estimators=100,\n",
       "                           n_iter_no_change=None, presort='deprecated',\n",
       "                           random_state=None, subsample=1.0, tol=0.0001,\n",
       "                           validation_fraction=0.1, verbose=0,\n",
       "                           warm_start=False)"
      ]
     },
     "execution_count": 63,
     "metadata": {},
     "output_type": "execute_result"
    }
   ],
   "source": [
    "# Plugging in best depth into original train set\n",
    "model = ensemble.GradientBoostingClassifier(max_depth = 6)\n",
    "model.fit(X_train, Y_train)"
   ]
  },
  {
   "cell_type": "code",
   "execution_count": 64,
   "metadata": {},
   "outputs": [
    {
     "name": "stdout",
     "output_type": "stream",
     "text": [
      "[[1289    0]\n",
      " [   0 1282]]\n",
      "1.0\n"
     ]
    }
   ],
   "source": [
    "#evaluating the accuracy of the model on the train set\n",
    "pred = model.predict(X_train)\n",
    "cm = confusion_matrix(Y_train, pred)\n",
    "print(cm)\n",
    "accuracy = (cm[0,0]+cm[1,1])/(sum(sum(cm)))\n",
    "print(accuracy)"
   ]
  },
  {
   "cell_type": "code",
   "execution_count": 65,
   "metadata": {},
   "outputs": [
    {
     "name": "stdout",
     "output_type": "stream",
     "text": [
      "[[416   9]\n",
      " [  1 431]]\n",
      "0.9883313885647608\n"
     ]
    }
   ],
   "source": [
    "#evaluating the accuracy of the model on the test set\n",
    "pred = model.predict(X_test)\n",
    "cm = confusion_matrix(Y_test, pred)\n",
    "print(cm)\n",
    "accuracy = (cm[0,0]+cm[1,1])/(sum(sum(cm)))\n",
    "print(accuracy)"
   ]
  },
  {
   "cell_type": "code",
   "execution_count": 66,
   "metadata": {},
   "outputs": [
    {
     "data": {
      "text/plain": [
       "['Weiyu_XGBoost']"
      ]
     },
     "execution_count": 66,
     "metadata": {},
     "output_type": "execute_result"
    }
   ],
   "source": [
    "joblib.dump (model, \"Weiyu_XGBoost\")"
   ]
  },
  {
   "cell_type": "markdown",
   "metadata": {},
   "source": [
    "# Neural Network"
   ]
  },
  {
   "cell_type": "code",
   "execution_count": 76,
   "metadata": {},
   "outputs": [],
   "source": [
    "from keras.models import Sequential\n",
    "from keras.layers import Dense, Dropout"
   ]
  },
  {
   "cell_type": "code",
   "execution_count": 110,
   "metadata": {},
   "outputs": [],
   "source": [
    "model = Sequential()\n",
    "model.add(Dense(7, input_dim = 3, activation = \"relu\"))"
   ]
  },
  {
   "cell_type": "code",
   "execution_count": 111,
   "metadata": {},
   "outputs": [],
   "source": [
    "model.add(Dropout(0.3))\n",
    "model.add(Dense(3, activation=\"relu\"))"
   ]
  },
  {
   "cell_type": "code",
   "execution_count": 112,
   "metadata": {},
   "outputs": [
    {
     "name": "stdout",
     "output_type": "stream",
     "text": [
      "Model: \"sequential_7\"\n",
      "_________________________________________________________________\n",
      " Layer (type)                Output Shape              Param #   \n",
      "=================================================================\n",
      " dense_24 (Dense)            (None, 7)                 28        \n",
      "                                                                 \n",
      " dropout_17 (Dropout)        (None, 7)                 0         \n",
      "                                                                 \n",
      " dense_25 (Dense)            (None, 3)                 24        \n",
      "                                                                 \n",
      " dropout_18 (Dropout)        (None, 3)                 0         \n",
      "                                                                 \n",
      " dense_26 (Dense)            (None, 1)                 4         \n",
      "                                                                 \n",
      "=================================================================\n",
      "Total params: 56\n",
      "Trainable params: 56\n",
      "Non-trainable params: 0\n",
      "_________________________________________________________________\n"
     ]
    }
   ],
   "source": [
    "model.add(Dropout(0.3))\n",
    "model.add(Dense(1, activation=\"sigmoid\"))\n",
    "model.summary()"
   ]
  },
  {
   "cell_type": "code",
   "execution_count": 113,
   "metadata": {},
   "outputs": [],
   "source": [
    "model.compile(loss = \"binary_crossentropy\", metrics=[\"accuracy\"])"
   ]
  },
  {
   "cell_type": "code",
   "execution_count": 114,
   "metadata": {},
   "outputs": [
    {
     "name": "stdout",
     "output_type": "stream",
     "text": [
      "Epoch 1/10\n",
      "258/258 [==============================] - 1s 1ms/step - loss: 1482.7886 - accuracy: 0.5060\n",
      "Epoch 2/10\n",
      "258/258 [==============================] - 0s 970us/step - loss: 44.6705 - accuracy: 0.6383\n",
      "Epoch 3/10\n",
      "258/258 [==============================] - 0s 1ms/step - loss: 0.6908 - accuracy: 0.6647\n",
      "Epoch 4/10\n",
      "258/258 [==============================] - 0s 1ms/step - loss: 0.6871 - accuracy: 0.6651\n",
      "Epoch 5/10\n",
      "258/258 [==============================] - 0s 981us/step - loss: 0.5755 - accuracy: 0.6534\n",
      "Epoch 6/10\n",
      "258/258 [==============================] - 0s 974us/step - loss: 0.5761 - accuracy: 0.6647\n",
      "Epoch 7/10\n",
      "258/258 [==============================] - 0s 921us/step - loss: 0.5918 - accuracy: 0.6624\n",
      "Epoch 8/10\n",
      "258/258 [==============================] - 0s 915us/step - loss: 0.5630 - accuracy: 0.6639\n",
      "Epoch 9/10\n",
      "258/258 [==============================] - 0s 981us/step - loss: 0.5652 - accuracy: 0.6636\n",
      "Epoch 10/10\n",
      "258/258 [==============================] - 0s 932us/step - loss: 0.5552 - accuracy: 0.6768\n"
     ]
    },
    {
     "data": {
      "text/plain": [
       "<keras.callbacks.History at 0x7fef3193d950>"
      ]
     },
     "execution_count": 114,
     "metadata": {},
     "output_type": "execute_result"
    }
   ],
   "source": [
    "model.fit(X_train, Y_train, batch_size = 10, epochs = 10,  verbose = 1)"
   ]
  },
  {
   "cell_type": "code",
   "execution_count": 115,
   "metadata": {},
   "outputs": [
    {
     "name": "stdout",
     "output_type": "stream",
     "text": [
      "81/81 [==============================] - 0s 1ms/step - loss: 0.3998 - accuracy: 0.8429\n"
     ]
    },
    {
     "data": {
      "text/plain": [
       "[0.39983126521110535, 0.8428627252578735]"
      ]
     },
     "execution_count": 115,
     "metadata": {},
     "output_type": "execute_result"
    }
   ],
   "source": [
    "#evaluating model on test set\n",
    "model.evaluate(X_train, Y_train)"
   ]
  },
  {
   "cell_type": "code",
   "execution_count": 116,
   "metadata": {},
   "outputs": [
    {
     "name": "stdout",
     "output_type": "stream",
     "text": [
      "27/27 [==============================] - 0s 2ms/step - loss: 0.3902 - accuracy: 0.8565\n"
     ]
    },
    {
     "data": {
      "text/plain": [
       "[0.39020469784736633, 0.8564760684967041]"
      ]
     },
     "execution_count": 116,
     "metadata": {},
     "output_type": "execute_result"
    }
   ],
   "source": [
    "#evaluating model on test set\n",
    "model.evaluate(X_test, Y_test)"
   ]
  },
  {
   "cell_type": "code",
   "execution_count": 117,
   "metadata": {},
   "outputs": [
    {
     "name": "stdout",
     "output_type": "stream",
     "text": [
      "INFO:tensorflow:Assets written to: Weiyu_NeuralNetwork/assets\n"
     ]
    }
   ],
   "source": [
    "model.save(\"Weiyu_NeuralNetwork\")"
   ]
  },
  {
   "cell_type": "code",
   "execution_count": null,
   "metadata": {},
   "outputs": [],
   "source": []
  }
 ],
 "metadata": {
  "kernelspec": {
   "display_name": "Python 3",
   "language": "python",
   "name": "python3"
  },
  "language_info": {
   "codemirror_mode": {
    "name": "ipython",
    "version": 3
   },
   "file_extension": ".py",
   "mimetype": "text/x-python",
   "name": "python",
   "nbconvert_exporter": "python",
   "pygments_lexer": "ipython3",
   "version": "3.7.6"
  }
 },
 "nbformat": 4,
 "nbformat_minor": 4
}
